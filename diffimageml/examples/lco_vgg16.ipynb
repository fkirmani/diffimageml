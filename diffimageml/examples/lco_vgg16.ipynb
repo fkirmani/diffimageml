{
 "cells": [
  {
   "cell_type": "code",
   "execution_count": 1,
   "metadata": {},
   "outputs": [
    {
     "name": "stderr",
     "output_type": "stream",
     "text": [
      "/home/fkirmani/anaconda3/lib/python3.7/site-packages/statsmodels/tools/_testing.py:19: FutureWarning: pandas.util.testing is deprecated. Use the functions in the public API at pandas.testing instead.\n",
      "  import pandas.util.testing as tm\n"
     ]
    }
   ],
   "source": [
    "import keras,os\n",
    "from keras.models import Sequential\n",
    "from keras.layers import Dense, Conv2D, MaxPool2D , Flatten\n",
    "# from keras.preprocessing.image import ImageDataGenerator\n",
    "import numpy as np\n",
    "import pandas as pd\n",
    "import imageio\n",
    "import glob\n",
    "import re\n",
    "import matplotlib.pyplot as plt\n",
    "import seaborn as sn\n",
    "from keras.utils import to_categorical\n",
    "from keras.models import Model, load_model\n",
    "from sklearn.model_selection import train_test_split\n",
    "# from sklearn.metrics import plot_confusion_matrix\n",
    "import tensorflow as tf\n",
    "# import diffimageml"
   ]
  },
  {
   "cell_type": "code",
   "execution_count": 2,
   "metadata": {},
   "outputs": [],
   "source": [
    "x1 = []\n",
    "im_even = [fn for fn in glob.glob(\"./lco_data/MEFbatch/class_fp/*.png\") if \"0.png\" in fn or \"2.png\" in fn or \"4.png\" in fn or \"6.png\" in fn or \"8.png\" in fn]\n",
    "for fn in im_even:\n",
    "    im = imageio.imread(fn)\n",
    "    x1.append(im)"
   ]
  },
  {
   "cell_type": "code",
   "execution_count": 3,
   "metadata": {},
   "outputs": [],
   "source": [
    "x2 = []\n",
    "im_even = [fn for fn in glob.glob(\"./lco_data/MEFbatch/class_single/images/*.png\") if \"0.png\" in fn or \"2.png\" in fn or \"4.png\" in fn or \"6.png\" in fn or \"8.png\" in fn]\n",
    "for fn in glob.glob('./lco_data/MEFbatch/class_single/images/*.png'):\n",
    "    im = imageio.imread(fn)\n",
    "    x2.append(im)"
   ]
  },
  {
   "cell_type": "code",
   "execution_count": 4,
   "metadata": {},
   "outputs": [],
   "source": [
    "x3 = []\n",
    "im_even = [fn for fn in glob.glob(\"./lco_data/MEFbatch/class_lensed/images/*.png\") if \"0.png\" in fn or \"2.png\" in fn or \"4.png\" in fn or \"6.png\" in fn or \"8.png\" in fn]\n",
    "for fn in glob.glob('./lco_data/MEFbatch/class_lensed/images/*.png'):\n",
    "    im = imageio.imread(fn)\n",
    "    x3.append(im)"
   ]
  },
  {
   "cell_type": "code",
   "execution_count": 5,
   "metadata": {},
   "outputs": [],
   "source": [
    "y1=[]\n",
    "for i in enumerate(x1):\n",
    "    y1.append(0)"
   ]
  },
  {
   "cell_type": "code",
   "execution_count": 6,
   "metadata": {},
   "outputs": [],
   "source": [
    "y2=[]\n",
    "for i in enumerate(x2):\n",
    "    y2.append(1)"
   ]
  },
  {
   "cell_type": "code",
   "execution_count": 7,
   "metadata": {},
   "outputs": [],
   "source": [
    "y3=[]\n",
    "for i in enumerate(x3):\n",
    "    y3.append(2)"
   ]
  },
  {
   "cell_type": "code",
   "execution_count": 8,
   "metadata": {},
   "outputs": [],
   "source": [
    "x = [] \n",
    "x.extend(x1)\n",
    "x.extend(x2)\n",
    "x.extend(x3)\n",
    "# x = np.expand_dims(x, axis=1)\n",
    "x = np.array(x)"
   ]
  },
  {
   "cell_type": "code",
   "execution_count": 9,
   "metadata": {},
   "outputs": [],
   "source": [
    "y = [] \n",
    "y.extend(y1)\n",
    "y.extend(y2)\n",
    "y.extend(y3)\n",
    "y = to_categorical(y, num_classes=3)\n",
    "y = np.array(y)"
   ]
  },
  {
   "cell_type": "markdown",
   "metadata": {},
   "source": [
    "#### Approach 1 - Training our own VGG16 model from scratch"
   ]
  },
  {
   "cell_type": "code",
   "execution_count": 10,
   "metadata": {},
   "outputs": [],
   "source": [
    "X_train, X_test, y_train, y_test = train_test_split(x, y, random_state=42, test_size=0.1)"
   ]
  },
  {
   "cell_type": "code",
   "execution_count": 11,
   "metadata": {},
   "outputs": [
    {
     "data": {
      "text/plain": [
       "(49248, 50, 50, 3)"
      ]
     },
     "execution_count": 11,
     "metadata": {},
     "output_type": "execute_result"
    }
   ],
   "source": [
    "X_train.shape"
   ]
  },
  {
   "cell_type": "code",
   "execution_count": 12,
   "metadata": {},
   "outputs": [],
   "source": [
    "model = Sequential()\n",
    "model.add(Conv2D(input_shape=(50,50,3),filters=64,kernel_size=(3,3),padding=\"same\", activation=\"relu\"))\n",
    "model.add(Conv2D(filters=4,kernel_size=(3,3),padding=\"same\", activation=\"relu\"))\n",
    "model.add(MaxPool2D(pool_size=(2,2),strides=(2,2)))\n",
    "model.add(Conv2D(filters=8, kernel_size=(3,3), padding=\"same\", activation=\"relu\"))\n",
    "model.add(Conv2D(filters=8, kernel_size=(3,3), padding=\"same\", activation=\"relu\"))\n",
    "model.add(MaxPool2D(pool_size=(2,2),strides=(2,2)))\n",
    "model.add(Conv2D(filters=16, kernel_size=(3,3), padding=\"same\", activation=\"relu\"))\n",
    "model.add(Conv2D(filters=16, kernel_size=(3,3), padding=\"same\", activation=\"relu\"))\n",
    "model.add(Conv2D(filters=16, kernel_size=(3,3), padding=\"same\", activation=\"relu\"))\n",
    "model.add(MaxPool2D(pool_size=(2,2),strides=(2,2)))\n",
    "model.add(Conv2D(filters=32, kernel_size=(3,3), padding=\"same\", activation=\"relu\"))\n",
    "model.add(Conv2D(filters=32, kernel_size=(3,3), padding=\"same\", activation=\"relu\"))\n",
    "model.add(Conv2D(filters=32, kernel_size=(3,3), padding=\"same\", activation=\"relu\"))\n",
    "model.add(MaxPool2D(pool_size=(2,2),strides=(2,2)))\n",
    "model.add(Conv2D(filters=32, kernel_size=(3,3), padding=\"same\", activation=\"relu\"))\n",
    "model.add(Conv2D(filters=32, kernel_size=(3,3), padding=\"same\", activation=\"relu\"))\n",
    "model.add(Conv2D(filters=32, kernel_size=(3,3), padding=\"same\", activation=\"relu\"))\n",
    "model.add(MaxPool2D(pool_size=(2,2),strides=(2,2)))\n",
    "\n",
    "model.add(Flatten())\n",
    "model.add(Dense(units=32,activation=\"relu\"))\n",
    "model.add(Dense(units=32,activation=\"relu\"))\n",
    "model.add(Dense(units=3, activation=\"softmax\"))"
   ]
  },
  {
   "cell_type": "code",
   "execution_count": 13,
   "metadata": {},
   "outputs": [],
   "source": [
    "from keras.optimizers import Adam\n",
    "opt = Adam(lr=0.001)\n",
    "model.compile(optimizer=opt, loss=keras.losses.categorical_crossentropy, \n",
    "              metrics=['accuracy', \n",
    "                       tf.keras.metrics.AUC(num_thresholds=1200, curve='ROC', summation_method='interpolation')])"
   ]
  },
  {
   "cell_type": "code",
   "execution_count": 14,
   "metadata": {},
   "outputs": [
    {
     "name": "stdout",
     "output_type": "stream",
     "text": [
      "Model: \"sequential\"\n",
      "_________________________________________________________________\n",
      "Layer (type)                 Output Shape              Param #   \n",
      "=================================================================\n",
      "conv2d (Conv2D)              (None, 50, 50, 64)        1792      \n",
      "_________________________________________________________________\n",
      "conv2d_1 (Conv2D)            (None, 50, 50, 4)         2308      \n",
      "_________________________________________________________________\n",
      "max_pooling2d (MaxPooling2D) (None, 25, 25, 4)         0         \n",
      "_________________________________________________________________\n",
      "conv2d_2 (Conv2D)            (None, 25, 25, 8)         296       \n",
      "_________________________________________________________________\n",
      "conv2d_3 (Conv2D)            (None, 25, 25, 8)         584       \n",
      "_________________________________________________________________\n",
      "max_pooling2d_1 (MaxPooling2 (None, 12, 12, 8)         0         \n",
      "_________________________________________________________________\n",
      "conv2d_4 (Conv2D)            (None, 12, 12, 16)        1168      \n",
      "_________________________________________________________________\n",
      "conv2d_5 (Conv2D)            (None, 12, 12, 16)        2320      \n",
      "_________________________________________________________________\n",
      "conv2d_6 (Conv2D)            (None, 12, 12, 16)        2320      \n",
      "_________________________________________________________________\n",
      "max_pooling2d_2 (MaxPooling2 (None, 6, 6, 16)          0         \n",
      "_________________________________________________________________\n",
      "conv2d_7 (Conv2D)            (None, 6, 6, 32)          4640      \n",
      "_________________________________________________________________\n",
      "conv2d_8 (Conv2D)            (None, 6, 6, 32)          9248      \n",
      "_________________________________________________________________\n",
      "conv2d_9 (Conv2D)            (None, 6, 6, 32)          9248      \n",
      "_________________________________________________________________\n",
      "max_pooling2d_3 (MaxPooling2 (None, 3, 3, 32)          0         \n",
      "_________________________________________________________________\n",
      "conv2d_10 (Conv2D)           (None, 3, 3, 32)          9248      \n",
      "_________________________________________________________________\n",
      "conv2d_11 (Conv2D)           (None, 3, 3, 32)          9248      \n",
      "_________________________________________________________________\n",
      "conv2d_12 (Conv2D)           (None, 3, 3, 32)          9248      \n",
      "_________________________________________________________________\n",
      "max_pooling2d_4 (MaxPooling2 (None, 1, 1, 32)          0         \n",
      "_________________________________________________________________\n",
      "flatten (Flatten)            (None, 32)                0         \n",
      "_________________________________________________________________\n",
      "dense (Dense)                (None, 32)                1056      \n",
      "_________________________________________________________________\n",
      "dense_1 (Dense)              (None, 32)                1056      \n",
      "_________________________________________________________________\n",
      "dense_2 (Dense)              (None, 3)                 99        \n",
      "=================================================================\n",
      "Total params: 63,879\n",
      "Trainable params: 63,879\n",
      "Non-trainable params: 0\n",
      "_________________________________________________________________\n"
     ]
    }
   ],
   "source": [
    "model.summary()"
   ]
  },
  {
   "cell_type": "code",
   "execution_count": 15,
   "metadata": {},
   "outputs": [
    {
     "name": "stdout",
     "output_type": "stream",
     "text": [
      "Epoch 1/50\n",
      "1539/1539 [==============================] - 90s 58ms/step - loss: 0.8139 - accuracy: 0.6115 - auc: 0.7869 - val_loss: 0.5682 - val_accuracy: 0.7230 - val_auc: 0.8834\n",
      "\n",
      "Epoch 00001: val_auc improved from -inf to 0.88338, saving model to vgg16_1.h5\n",
      "Epoch 2/50\n",
      "1539/1539 [==============================] - 87s 56ms/step - loss: 0.5462 - accuracy: 0.7260 - auc: 0.8879 - val_loss: 0.5293 - val_accuracy: 0.7367 - val_auc: 0.8923\n",
      "\n",
      "Epoch 00002: val_auc improved from 0.88338 to 0.89225, saving model to vgg16_1.h5\n",
      "Epoch 3/50\n",
      "1539/1539 [==============================] - 88s 57ms/step - loss: 0.5444 - accuracy: 0.7223 - auc: 0.8864 - val_loss: 0.5520 - val_accuracy: 0.7285 - val_auc: 0.8880\n",
      "\n",
      "Epoch 00003: val_auc did not improve from 0.89225\n",
      "Epoch 4/50\n",
      "1539/1539 [==============================] - 87s 56ms/step - loss: 0.5298 - accuracy: 0.7296 - auc: 0.8913 - val_loss: 0.5590 - val_accuracy: 0.7276 - val_auc: 0.8873\n",
      "\n",
      "Epoch 00004: val_auc did not improve from 0.89225\n",
      "Epoch 5/50\n",
      "1539/1539 [==============================] - 88s 57ms/step - loss: 0.5274 - accuracy: 0.7276 - auc: 0.8905 - val_loss: 0.5558 - val_accuracy: 0.7299 - val_auc: 0.8882\n",
      "\n",
      "Epoch 00005: val_auc did not improve from 0.89225\n",
      "Epoch 6/50\n",
      "1539/1539 [==============================] - 89s 58ms/step - loss: 0.5312 - accuracy: 0.7281 - auc: 0.8906 - val_loss: 0.5302 - val_accuracy: 0.7351 - val_auc: 0.8902\n",
      "\n",
      "Epoch 00006: val_auc did not improve from 0.89225\n",
      "Epoch 7/50\n",
      "1539/1539 [==============================] - 87s 56ms/step - loss: 0.5296 - accuracy: 0.7294 - auc: 0.8909 - val_loss: 0.5168 - val_accuracy: 0.7382 - val_auc: 0.8946\n",
      "\n",
      "Epoch 00007: val_auc improved from 0.89225 to 0.89457, saving model to vgg16_1.h5\n",
      "Epoch 8/50\n",
      "1539/1539 [==============================] - 88s 57ms/step - loss: 0.5282 - accuracy: 0.7302 - auc: 0.8901 - val_loss: 0.5226 - val_accuracy: 0.7369 - val_auc: 0.8929\n",
      "\n",
      "Epoch 00008: val_auc did not improve from 0.89457\n",
      "Epoch 9/50\n",
      "1539/1539 [==============================] - 88s 57ms/step - loss: 0.5202 - accuracy: 0.7316 - auc: 0.8927 - val_loss: 0.5498 - val_accuracy: 0.7336 - val_auc: 0.8893\n",
      "\n",
      "Epoch 00009: val_auc did not improve from 0.89457\n",
      "Epoch 10/50\n",
      "1539/1539 [==============================] - 89s 58ms/step - loss: 0.5310 - accuracy: 0.7275 - auc: 0.8899 - val_loss: 0.5287 - val_accuracy: 0.7389 - val_auc: 0.8942\n",
      "\n",
      "Epoch 00010: val_auc did not improve from 0.89457\n",
      "Epoch 11/50\n",
      "1539/1539 [==============================] - 88s 57ms/step - loss: 0.5329 - accuracy: 0.7265 - auc: 0.8902 - val_loss: 0.5257 - val_accuracy: 0.7352 - val_auc: 0.8916\n",
      "\n",
      "Epoch 00011: val_auc did not improve from 0.89457\n",
      "Epoch 12/50\n",
      "1539/1539 [==============================] - 87s 57ms/step - loss: 0.5293 - accuracy: 0.7285 - auc: 0.8905 - val_loss: 0.5291 - val_accuracy: 0.7369 - val_auc: 0.8915\n",
      "\n",
      "Epoch 00012: val_auc did not improve from 0.89457\n",
      "Epoch 00012: early stopping\n"
     ]
    }
   ],
   "source": [
    "from keras.callbacks import ModelCheckpoint, EarlyStopping\n",
    "checkpoint = ModelCheckpoint(\"vgg16_1.h5\", monitor='val_auc', verbose=1, save_best_only=True, save_weights_only=False, mode='max')\n",
    "early = EarlyStopping(monitor='val_auc', min_delta=0, patience=5, verbose=1, mode='max')\n",
    "# hist = model.fit_generator(steps_per_epoch=10,generator=(X_train, y_train), validation_data= (X_test, y_test), validation_steps=10,epochs=50,callbacks=[checkpoint,early])\n",
    "hist = model.fit(X_train, y_train, epochs=50, validation_data=(X_test, y_test), batch_size=32,callbacks=[checkpoint,early])"
   ]
  },
  {
   "cell_type": "code",
   "execution_count": 16,
   "metadata": {},
   "outputs": [
    {
     "data": {
      "image/png": "[encoded data removed]",
      "text/plain": [
       "<Figure size 432x288 with 1 Axes>"
      ]
     },
     "metadata": {
      "needs_background": "light"
     },
     "output_type": "display_data"
    }
   ],
   "source": [
    "plt.plot(hist.history[\"auc\"])\n",
    "plt.plot(hist.history['val_auc'])\n",
    "plt.plot(hist.history['loss'])\n",
    "plt.plot(hist.history['val_loss'])\n",
    "plt.title(\"model auc\")\n",
    "plt.ylabel(\"Auc\")\n",
    "plt.xlabel(\"Epoch\")\n",
    "plt.legend([\"Auc\",\"Validation Auc\",\"loss\",\"Validation Loss\"])\n",
    "plt.savefig(\"trainvalid.png\")"
   ]
  },
  {
   "cell_type": "code",
   "execution_count": 17,
   "metadata": {},
   "outputs": [],
   "source": [
    "model = load_model('./vgg16_1.h5')"
   ]
  },
  {
   "cell_type": "code",
   "execution_count": 18,
   "metadata": {},
   "outputs": [
    {
     "name": "stdout",
     "output_type": "stream",
     "text": [
      "172/172 [==============================] - 2s 10ms/step\n"
     ]
    }
   ],
   "source": [
    "model_pred = model.predict(X_test, batch_size=32, verbose=1)\n",
    "model_predicted = np.argmax(model_pred, axis=1)"
   ]
  },
  {
   "cell_type": "code",
   "execution_count": 19,
   "metadata": {},
   "outputs": [
    {
     "data": {
      "text/plain": [
       "array([[1085,    0,   11],\n",
       "       [   4,    0, 1407],\n",
       "       [  11,    0, 2955]])"
      ]
     },
     "execution_count": 19,
     "metadata": {},
     "output_type": "execute_result"
    }
   ],
   "source": [
    "from sklearn.metrics import confusion_matrix, classification_report\n",
    "model_cm = confusion_matrix(np.argmax(y_test, axis=1), model_predicted) \n",
    "model_cm"
   ]
  },
  {
   "cell_type": "code",
   "execution_count": 20,
   "metadata": {},
   "outputs": [
    {
     "data": {
      "image/png": "[encoded data removed]",
      "text/plain": [
       "<Figure size 576x288 with 2 Axes>"
      ]
     },
     "metadata": {
      "needs_background": "light"
     },
     "output_type": "display_data"
    }
   ],
   "source": [
    "model_df_cm = pd.DataFrame(model_cm, range(3), range(3)) \n",
    "plt.figure(figsize = (8, 4)) \n",
    "plt.title('Confusion Matrix')\n",
    "sn.set(font_scale=1.4) #for label size \n",
    "sn.heatmap(model_df_cm, annot=True, annot_kws={\"size\": 12}, fmt=\"d\") # font size \n",
    "plt.show()"
   ]
  },
  {
   "cell_type": "code",
   "execution_count": 21,
   "metadata": {},
   "outputs": [
    {
     "name": "stdout",
     "output_type": "stream",
     "text": [
      "              precision    recall  f1-score   support\n",
      "\n",
      "           0       0.99      0.99      0.99      1096\n",
      "           1       0.00      0.00      0.00      1411\n",
      "           2       0.68      1.00      0.81      2966\n",
      "\n",
      "    accuracy                           0.74      5473\n",
      "   macro avg       0.55      0.66      0.60      5473\n",
      "weighted avg       0.56      0.74      0.63      5473\n",
      "\n"
     ]
    },
    {
     "name": "stderr",
     "output_type": "stream",
     "text": [
      "/home/fkirmani/anaconda3/lib/python3.7/site-packages/sklearn/metrics/_classification.py:1221: UndefinedMetricWarning: Precision and F-score are ill-defined and being set to 0.0 in labels with no predicted samples. Use `zero_division` parameter to control this behavior.\n",
      "  _warn_prf(average, modifier, msg_start, len(result))\n"
     ]
    }
   ],
   "source": [
    "model_report = classification_report(np.argmax(y_test, axis=1), model_predicted)\n",
    "print(model_report)"
   ]
  },
  {
   "cell_type": "code",
   "execution_count": null,
   "metadata": {},
   "outputs": [],
   "source": []
  }
 ],
 "metadata": {
  "kernelspec": {
   "display_name": "Python 3",
   "language": "python",
   "name": "python3"
  },
  "language_info": {
   "codemirror_mode": {
    "name": "ipython",
    "version": 3
   },
   "file_extension": ".py",
   "mimetype": "text/x-python",
   "name": "python",
   "nbconvert_exporter": "python",
   "pygments_lexer": "ipython3",
   "version": "3.7.4"
  }
 },
 "nbformat": 4,
 "nbformat_minor": 4
}
