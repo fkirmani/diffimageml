{
 "cells": [
  {
   "cell_type": "code",
   "execution_count": 1,
   "metadata": {},
   "outputs": [
    {
     "name": "stderr",
     "output_type": "stream",
     "text": [
      "/home/fkirmani/anaconda3/lib/python3.7/site-packages/statsmodels/tools/_testing.py:19: FutureWarning: pandas.util.testing is deprecated. Use the functions in the public API at pandas.testing instead.\n",
      "  import pandas.util.testing as tm\n"
     ]
    }
   ],
   "source": [
    "import keras,os\n",
    "from keras.models import Sequential\n",
    "from keras.layers import Dense, Conv2D, MaxPool2D , Flatten, ConvLSTM2D, Bidirectional\n",
    "from keras.layers import TimeDistributed, RepeatVector\n",
    "# from keras.preprocessing.image import ImageDataGenerator\n",
    "import numpy as np\n",
    "import pandas as pd\n",
    "import imageio\n",
    "import glob\n",
    "import re\n",
    "import matplotlib.pyplot as plt\n",
    "import seaborn as sn\n",
    "from keras.utils import to_categorical\n",
    "from keras.models import Model, load_model\n",
    "from sklearn.model_selection import train_test_split\n",
    "# from sklearn.metrics import plot_confusion_matrix\n",
    "import tensorflow as tf\n",
    "# import diffimageml"
   ]
  },
  {
   "cell_type": "code",
   "execution_count": 2,
   "metadata": {},
   "outputs": [],
   "source": [
    "x1 = []\n",
    "im_even0 = [fn for fn in glob.glob(\"./lco_data/MEFbatch/class_fp/*.png\") if \"0.png\" in fn or \"2.png\" in fn or \"4.png\" in fn or \"6.png\" in fn or \"8.png\" in fn]\n",
    "for fn in im_even0:\n",
    "    im = imageio.imread(fn)\n",
    "    x1.append(im)"
   ]
  },
  {
   "cell_type": "code",
   "execution_count": 3,
   "metadata": {},
   "outputs": [],
   "source": [
    "x2 = []\n",
    "im_even1 = [fn for fn in glob.glob(\"./lco_data/MEFbatch/class_single/images/*.png\") if \"0.png\" in fn or \"2.png\" in fn or \"4.png\" in fn or \"6.png\" in fn or \"8.png\" in fn]\n",
    "for fn in im_even1:\n",
    "    im = imageio.imread(fn)\n",
    "    x2.append(im)"
   ]
  },
  {
   "cell_type": "code",
   "execution_count": 4,
   "metadata": {},
   "outputs": [],
   "source": [
    "x3 = []\n",
    "im_even2 = [fn for fn in glob.glob(\"./lco_data/MEFbatch/class_lensed/images/*.png\") if \"0.png\" in fn or \"2.png\" in fn or \"4.png\" in fn or \"6.png\" in fn or \"8.png\" in fn]\n",
    "for fn in im_even2:\n",
    "    im = imageio.imread(fn)\n",
    "    x3.append(im)"
   ]
  },
  {
   "cell_type": "code",
   "execution_count": 5,
   "metadata": {},
   "outputs": [],
   "source": [
    "y1=[]\n",
    "for i in enumerate(x1):\n",
    "    y1.append(0)"
   ]
  },
  {
   "cell_type": "code",
   "execution_count": 6,
   "metadata": {},
   "outputs": [],
   "source": [
    "y2=[]\n",
    "for i in enumerate(x2):\n",
    "    y2.append(1)"
   ]
  },
  {
   "cell_type": "code",
   "execution_count": 7,
   "metadata": {},
   "outputs": [],
   "source": [
    "y3=[]\n",
    "for i in enumerate(x3):\n",
    "    y3.append(2)"
   ]
  },
  {
   "cell_type": "code",
   "execution_count": 8,
   "metadata": {},
   "outputs": [],
   "source": [
    "x = [] \n",
    "x.extend(x1)\n",
    "x.extend(x2)\n",
    "x.extend(x3)\n",
    "# x = np.expand_dims(x, axis=1)\n",
    "x = np.array(x)"
   ]
  },
  {
   "cell_type": "code",
   "execution_count": 9,
   "metadata": {},
   "outputs": [],
   "source": [
    "y = [] \n",
    "y.extend(y1)\n",
    "y.extend(y2)\n",
    "y.extend(y3)\n",
    "y = to_categorical(y, num_classes=3)\n",
    "y = np.array(y)"
   ]
  },
  {
   "cell_type": "markdown",
   "metadata": {},
   "source": [
    "#### Approach 1 - Training our own VGG16 model from scratch"
   ]
  },
  {
   "cell_type": "code",
   "execution_count": 10,
   "metadata": {},
   "outputs": [],
   "source": [
    "X_train, X_test, y_train, y_test = train_test_split(x, y, random_state=42, test_size=0.1)"
   ]
  },
  {
   "cell_type": "code",
   "execution_count": 11,
   "metadata": {},
   "outputs": [
    {
     "data": {
      "text/plain": [
       "(29894, 50, 50, 3)"
      ]
     },
     "execution_count": 11,
     "metadata": {},
     "output_type": "execute_result"
    }
   ],
   "source": [
    "X_train.shape"
   ]
  },
  {
   "cell_type": "code",
   "execution_count": 12,
   "metadata": {},
   "outputs": [],
   "source": [
    "model = Sequential()\n",
    "model.add(Conv2D(input_shape=(50,50,3),filters=64,kernel_size=(3,3),padding=\"same\", activation=\"relu\"))\n",
    "model.add(Conv2D(filters=8,kernel_size=(3,3),padding=\"same\", activation=\"relu\"))\n",
    "model.add(MaxPool2D(pool_size=(2,2),strides=(2,2)))\n",
    "model.add(Conv2D(filters=16, kernel_size=(3,3), padding=\"same\", activation=\"relu\"))\n",
    "model.add(Conv2D(filters=16, kernel_size=(3,3), padding=\"same\", activation=\"relu\"))\n",
    "model.add(MaxPool2D(pool_size=(2,2),strides=(2,2)))\n",
    "model.add(Conv2D(filters=32, kernel_size=(3,3), padding=\"same\", activation=\"relu\"))\n",
    "model.add(Conv2D(filters=32, kernel_size=(3,3), padding=\"same\", activation=\"relu\"))\n",
    "model.add(Conv2D(filters=32, kernel_size=(3,3), padding=\"same\", activation=\"relu\"))\n",
    "model.add(MaxPool2D(pool_size=(2,2),strides=(2,2)))\n",
    "model.add(Conv2D(filters=64, kernel_size=(3,3), padding=\"same\", activation=\"relu\"))\n",
    "model.add(Conv2D(filters=64, kernel_size=(3,3), padding=\"same\", activation=\"relu\"))\n",
    "model.add(Conv2D(filters=64, kernel_size=(3,3), padding=\"same\", activation=\"relu\"))\n",
    "model.add(MaxPool2D(pool_size=(2,2),strides=(2,2)))\n",
    "model.add(Conv2D(filters=64, kernel_size=(3,3), padding=\"same\", activation=\"relu\"))\n",
    "model.add(Conv2D(filters=64, kernel_size=(3,3), padding=\"same\", activation=\"relu\"))\n",
    "model.add(Conv2D(filters=64, kernel_size=(3,3), padding=\"same\", activation=\"relu\"))\n",
    "model.add(MaxPool2D(pool_size=(2,2),strides=(2,2)))\n",
    "\n",
    "model.add(Flatten())\n",
    "model.add(Dense(units=64,activation=\"relu\"))\n",
    "model.add(Dense(units=64,activation=\"relu\"))\n",
    "model.add(Dense(units=3, activation=\"softmax\"))"
   ]
  },
  {
   "cell_type": "code",
   "execution_count": 13,
   "metadata": {},
   "outputs": [],
   "source": [
    "from keras.optimizers import Adam\n",
    "opt = Adam(lr=0.000001)\n",
    "model.compile(optimizer=opt, loss=keras.losses.categorical_crossentropy, \n",
    "              metrics=['accuracy', \n",
    "                       tf.keras.metrics.AUC(num_thresholds=1200, curve='ROC', summation_method='interpolation')])"
   ]
  },
  {
   "cell_type": "code",
   "execution_count": 14,
   "metadata": {},
   "outputs": [],
   "source": [
    "# model.summary()"
   ]
  },
  {
   "cell_type": "code",
   "execution_count": 15,
   "metadata": {},
   "outputs": [
    {
     "name": "stdout",
     "output_type": "stream",
     "text": [
      "Epoch 1/100\n",
      "935/935 [==============================] - 60s 63ms/step - loss: 1.1159 - accuracy: 0.3153 - auc: 0.4923 - val_loss: 1.0610 - val_accuracy: 0.4371 - val_auc: 0.6382\n",
      "\n",
      "Epoch 00001: val_auc improved from -inf to 0.63824, saving model to vgg16_1.h5\n",
      "Epoch 2/100\n",
      "935/935 [==============================] - 56s 60ms/step - loss: 1.0547 - accuracy: 0.4543 - auc: 0.6482 - val_loss: 1.0441 - val_accuracy: 0.4675 - val_auc: 0.6584\n",
      "\n",
      "Epoch 00002: val_auc improved from 0.63824 to 0.65845, saving model to vgg16_1.h5\n",
      "Epoch 3/100\n",
      "935/935 [==============================] - 57s 61ms/step - loss: 1.0333 - accuracy: 0.5120 - auc: 0.6811 - val_loss: 1.0232 - val_accuracy: 0.5304 - val_auc: 0.6914\n",
      "\n",
      "Epoch 00003: val_auc improved from 0.65845 to 0.69143, saving model to vgg16_1.h5\n",
      "Epoch 4/100\n",
      "935/935 [==============================] - 57s 61ms/step - loss: 1.0122 - accuracy: 0.5602 - auc: 0.7067 - val_loss: 0.9996 - val_accuracy: 0.5674 - val_auc: 0.7120\n",
      "\n",
      "Epoch 00004: val_auc improved from 0.69143 to 0.71200, saving model to vgg16_1.h5\n",
      "Epoch 5/100\n",
      "935/935 [==============================] - 57s 61ms/step - loss: 0.9877 - accuracy: 0.5776 - auc: 0.7300 - val_loss: 0.9702 - val_accuracy: 0.5713 - val_auc: 0.7358\n",
      "\n",
      "Epoch 00005: val_auc improved from 0.71200 to 0.73576, saving model to vgg16_1.h5\n",
      "Epoch 6/100\n",
      "935/935 [==============================] - 57s 61ms/step - loss: 0.9568 - accuracy: 0.5916 - auc: 0.7489 - val_loss: 0.9433 - val_accuracy: 0.5915 - val_auc: 0.7537\n",
      "\n",
      "Epoch 00006: val_auc improved from 0.73576 to 0.75373, saving model to vgg16_1.h5\n",
      "Epoch 7/100\n",
      "935/935 [==============================] - 56s 60ms/step - loss: 0.9362 - accuracy: 0.6017 - auc: 0.7588 - val_loss: 0.9208 - val_accuracy: 0.6011 - val_auc: 0.7668\n",
      "\n",
      "Epoch 00007: val_auc improved from 0.75373 to 0.76679, saving model to vgg16_1.h5\n",
      "Epoch 8/100\n",
      "935/935 [==============================] - 57s 61ms/step - loss: 0.9139 - accuracy: 0.6125 - auc: 0.7719 - val_loss: 0.8965 - val_accuracy: 0.6201 - val_auc: 0.7779\n",
      "\n",
      "Epoch 00008: val_auc improved from 0.76679 to 0.77793, saving model to vgg16_1.h5\n",
      "Epoch 9/100\n",
      "935/935 [==============================] - 57s 61ms/step - loss: 0.8880 - accuracy: 0.6242 - auc: 0.7857 - val_loss: 0.8788 - val_accuracy: 0.6177 - val_auc: 0.7882\n",
      "\n",
      "Epoch 00009: val_auc improved from 0.77793 to 0.78817, saving model to vgg16_1.h5\n",
      "Epoch 10/100\n",
      "935/935 [==============================] - 57s 61ms/step - loss: 0.8692 - accuracy: 0.6295 - auc: 0.7957 - val_loss: 0.8553 - val_accuracy: 0.6243 - val_auc: 0.8003\n",
      "\n",
      "Epoch 00010: val_auc improved from 0.78817 to 0.80027, saving model to vgg16_1.h5\n",
      "Epoch 11/100\n",
      "935/935 [==============================] - 57s 61ms/step - loss: 0.8466 - accuracy: 0.6374 - auc: 0.8077 - val_loss: 0.8373 - val_accuracy: 0.6337 - val_auc: 0.8091\n",
      "\n",
      "Epoch 00011: val_auc improved from 0.80027 to 0.80908, saving model to vgg16_1.h5\n",
      "Epoch 12/100\n",
      "935/935 [==============================] - 57s 61ms/step - loss: 0.8310 - accuracy: 0.6533 - auc: 0.8144 - val_loss: 0.8177 - val_accuracy: 0.6601 - val_auc: 0.8193\n",
      "\n",
      "Epoch 00012: val_auc improved from 0.80908 to 0.81932, saving model to vgg16_1.h5\n",
      "Epoch 13/100\n",
      "935/935 [==============================] - 57s 61ms/step - loss: 0.8107 - accuracy: 0.6681 - auc: 0.8249 - val_loss: 0.8004 - val_accuracy: 0.6644 - val_auc: 0.8270\n",
      "\n",
      "Epoch 00013: val_auc improved from 0.81932 to 0.82701, saving model to vgg16_1.h5\n",
      "Epoch 14/100\n",
      "935/935 [==============================] - 57s 61ms/step - loss: 0.7876 - accuracy: 0.6747 - auc: 0.8361 - val_loss: 0.7824 - val_accuracy: 0.6650 - val_auc: 0.8359\n",
      "\n",
      "Epoch 00014: val_auc improved from 0.82701 to 0.83586, saving model to vgg16_1.h5\n",
      "Epoch 15/100\n",
      "935/935 [==============================] - 57s 61ms/step - loss: 0.7714 - accuracy: 0.6837 - auc: 0.8430 - val_loss: 0.7670 - val_accuracy: 0.6737 - val_auc: 0.8416\n",
      "\n",
      "Epoch 00015: val_auc improved from 0.83586 to 0.84158, saving model to vgg16_1.h5\n",
      "Epoch 16/100\n",
      "935/935 [==============================] - 57s 61ms/step - loss: 0.7554 - accuracy: 0.6854 - auc: 0.8492 - val_loss: 0.7489 - val_accuracy: 0.6728 - val_auc: 0.8500\n",
      "\n",
      "Epoch 00016: val_auc improved from 0.84158 to 0.84995, saving model to vgg16_1.h5\n",
      "Epoch 17/100\n",
      "935/935 [==============================] - 57s 61ms/step - loss: 0.7446 - accuracy: 0.6874 - auc: 0.8533 - val_loss: 0.7324 - val_accuracy: 0.6800 - val_auc: 0.8554\n",
      "\n",
      "Epoch 00017: val_auc improved from 0.84995 to 0.85540, saving model to vgg16_1.h5\n",
      "Epoch 18/100\n",
      "935/935 [==============================] - 56s 60ms/step - loss: 0.7209 - accuracy: 0.6995 - auc: 0.8624 - val_loss: 0.7167 - val_accuracy: 0.6836 - val_auc: 0.8616\n",
      "\n",
      "Epoch 00018: val_auc improved from 0.85540 to 0.86163, saving model to vgg16_1.h5\n",
      "Epoch 19/100\n",
      "935/935 [==============================] - 56s 60ms/step - loss: 0.7105 - accuracy: 0.6999 - auc: 0.8663 - val_loss: 0.7024 - val_accuracy: 0.6893 - val_auc: 0.8652\n",
      "\n",
      "Epoch 00019: val_auc improved from 0.86163 to 0.86521, saving model to vgg16_1.h5\n",
      "Epoch 20/100\n",
      "935/935 [==============================] - 55s 59ms/step - loss: 0.6899 - accuracy: 0.7082 - auc: 0.8732 - val_loss: 0.6875 - val_accuracy: 0.6960 - val_auc: 0.8703\n",
      "\n",
      "Epoch 00020: val_auc improved from 0.86521 to 0.87028, saving model to vgg16_1.h5\n",
      "Epoch 21/100\n",
      "935/935 [==============================] - 56s 60ms/step - loss: 0.6774 - accuracy: 0.7118 - auc: 0.8772 - val_loss: 0.6739 - val_accuracy: 0.7062 - val_auc: 0.8751\n",
      "\n",
      "Epoch 00021: val_auc improved from 0.87028 to 0.87512, saving model to vgg16_1.h5\n",
      "Epoch 22/100\n",
      "935/935 [==============================] - 54s 58ms/step - loss: 0.6688 - accuracy: 0.7144 - auc: 0.8785 - val_loss: 0.6619 - val_accuracy: 0.7089 - val_auc: 0.8773\n",
      "\n",
      "Epoch 00022: val_auc improved from 0.87512 to 0.87730, saving model to vgg16_1.h5\n",
      "Epoch 23/100\n",
      "935/935 [==============================] - 56s 59ms/step - loss: 0.6556 - accuracy: 0.7169 - auc: 0.8816 - val_loss: 0.6502 - val_accuracy: 0.7164 - val_auc: 0.8820\n",
      "\n",
      "Epoch 00023: val_auc improved from 0.87730 to 0.88195, saving model to vgg16_1.h5\n",
      "Epoch 24/100\n",
      "935/935 [==============================] - 56s 60ms/step - loss: 0.6406 - accuracy: 0.7255 - auc: 0.8874 - val_loss: 0.6367 - val_accuracy: 0.7089 - val_auc: 0.8849\n",
      "\n",
      "Epoch 00024: val_auc improved from 0.88195 to 0.88490, saving model to vgg16_1.h5\n",
      "Epoch 25/100\n",
      "935/935 [==============================] - 56s 60ms/step - loss: 0.6359 - accuracy: 0.7234 - auc: 0.8881 - val_loss: 0.6238 - val_accuracy: 0.7143 - val_auc: 0.8896\n",
      "\n",
      "Epoch 00025: val_auc improved from 0.88490 to 0.88961, saving model to vgg16_1.h5\n",
      "Epoch 26/100\n",
      "935/935 [==============================] - 55s 59ms/step - loss: 0.6208 - accuracy: 0.7249 - auc: 0.8921 - val_loss: 0.6144 - val_accuracy: 0.7222 - val_auc: 0.8917\n",
      "\n",
      "Epoch 00026: val_auc improved from 0.88961 to 0.89172, saving model to vgg16_1.h5\n",
      "Epoch 27/100\n",
      "935/935 [==============================] - 55s 59ms/step - loss: 0.6067 - accuracy: 0.7334 - auc: 0.8966 - val_loss: 0.6022 - val_accuracy: 0.7237 - val_auc: 0.8952\n",
      "\n",
      "Epoch 00027: val_auc improved from 0.89172 to 0.89522, saving model to vgg16_1.h5\n",
      "Epoch 28/100\n",
      "935/935 [==============================] - 56s 60ms/step - loss: 0.5972 - accuracy: 0.7321 - auc: 0.8985 - val_loss: 0.5945 - val_accuracy: 0.7315 - val_auc: 0.8975\n",
      "\n",
      "Epoch 00028: val_auc improved from 0.89522 to 0.89753, saving model to vgg16_1.h5\n",
      "Epoch 29/100\n",
      "935/935 [==============================] - 55s 59ms/step - loss: 0.5857 - accuracy: 0.7373 - auc: 0.9014 - val_loss: 0.5846 - val_accuracy: 0.7354 - val_auc: 0.9003\n",
      "\n",
      "Epoch 00029: val_auc improved from 0.89753 to 0.90032, saving model to vgg16_1.h5\n",
      "Epoch 30/100\n",
      "935/935 [==============================] - 56s 60ms/step - loss: 0.5745 - accuracy: 0.7418 - auc: 0.9041 - val_loss: 0.5732 - val_accuracy: 0.7357 - val_auc: 0.9028\n",
      "\n",
      "Epoch 00030: val_auc improved from 0.90032 to 0.90277, saving model to vgg16_1.h5\n",
      "Epoch 31/100\n",
      "935/935 [==============================] - 56s 60ms/step - loss: 0.5701 - accuracy: 0.7428 - auc: 0.9053 - val_loss: 0.5653 - val_accuracy: 0.7330 - val_auc: 0.9039\n",
      "\n",
      "Epoch 00031: val_auc improved from 0.90277 to 0.90386, saving model to vgg16_1.h5\n",
      "Epoch 32/100\n",
      "935/935 [==============================] - 55s 59ms/step - loss: 0.5614 - accuracy: 0.7449 - auc: 0.9070 - val_loss: 0.5556 - val_accuracy: 0.7408 - val_auc: 0.9074\n",
      "\n",
      "Epoch 00032: val_auc improved from 0.90386 to 0.90735, saving model to vgg16_1.h5\n",
      "Epoch 33/100\n",
      "935/935 [==============================] - 55s 59ms/step - loss: 0.5508 - accuracy: 0.7506 - auc: 0.9097 - val_loss: 0.5482 - val_accuracy: 0.7435 - val_auc: 0.9098\n",
      "\n",
      "Epoch 00033: val_auc improved from 0.90735 to 0.90983, saving model to vgg16_1.h5\n",
      "Epoch 34/100\n",
      "935/935 [==============================] - 56s 60ms/step - loss: 0.5479 - accuracy: 0.7480 - auc: 0.9098 - val_loss: 0.5400 - val_accuracy: 0.7468 - val_auc: 0.9112\n",
      "\n",
      "Epoch 00034: val_auc improved from 0.90983 to 0.91122, saving model to vgg16_1.h5\n",
      "Epoch 35/100\n",
      "935/935 [==============================] - 55s 59ms/step - loss: 0.5408 - accuracy: 0.7543 - auc: 0.9122 - val_loss: 0.5331 - val_accuracy: 0.7459 - val_auc: 0.9120\n",
      "\n",
      "Epoch 00035: val_auc improved from 0.91122 to 0.91200, saving model to vgg16_1.h5\n",
      "Epoch 36/100\n",
      "935/935 [==============================] - 54s 58ms/step - loss: 0.5304 - accuracy: 0.7566 - auc: 0.9139 - val_loss: 0.5275 - val_accuracy: 0.7492 - val_auc: 0.9133\n",
      "\n",
      "Epoch 00036: val_auc improved from 0.91200 to 0.91334, saving model to vgg16_1.h5\n",
      "Epoch 37/100\n",
      "935/935 [==============================] - 55s 59ms/step - loss: 0.5264 - accuracy: 0.7591 - auc: 0.9145 - val_loss: 0.5220 - val_accuracy: 0.7532 - val_auc: 0.9145\n",
      "\n",
      "Epoch 00037: val_auc improved from 0.91334 to 0.91448, saving model to vgg16_1.h5\n",
      "Epoch 38/100\n",
      "935/935 [==============================] - 55s 59ms/step - loss: 0.5199 - accuracy: 0.7591 - auc: 0.9156 - val_loss: 0.5159 - val_accuracy: 0.7568 - val_auc: 0.9166\n",
      "\n",
      "Epoch 00038: val_auc improved from 0.91448 to 0.91661, saving model to vgg16_1.h5\n",
      "Epoch 39/100\n",
      "935/935 [==============================] - 55s 59ms/step - loss: 0.5154 - accuracy: 0.7607 - auc: 0.9164 - val_loss: 0.5088 - val_accuracy: 0.7535 - val_auc: 0.9167\n",
      "\n",
      "Epoch 00039: val_auc improved from 0.91661 to 0.91666, saving model to vgg16_1.h5\n",
      "Epoch 40/100\n",
      "935/935 [==============================] - 55s 59ms/step - loss: 0.5082 - accuracy: 0.7613 - auc: 0.9173 - val_loss: 0.5052 - val_accuracy: 0.7571 - val_auc: 0.9184\n",
      "\n",
      "Epoch 00040: val_auc improved from 0.91666 to 0.91836, saving model to vgg16_1.h5\n",
      "Epoch 41/100\n",
      "935/935 [==============================] - 55s 59ms/step - loss: 0.5012 - accuracy: 0.7660 - auc: 0.9200 - val_loss: 0.4993 - val_accuracy: 0.7568 - val_auc: 0.9187\n",
      "\n",
      "Epoch 00041: val_auc improved from 0.91836 to 0.91869, saving model to vgg16_1.h5\n",
      "Epoch 42/100\n",
      "935/935 [==============================] - 55s 58ms/step - loss: 0.4991 - accuracy: 0.7631 - auc: 0.9190 - val_loss: 0.4944 - val_accuracy: 0.7571 - val_auc: 0.9191\n",
      "\n",
      "Epoch 00042: val_auc improved from 0.91869 to 0.91915, saving model to vgg16_1.h5\n",
      "Epoch 43/100\n",
      "935/935 [==============================] - 54s 58ms/step - loss: 0.4996 - accuracy: 0.7606 - auc: 0.9178 - val_loss: 0.4906 - val_accuracy: 0.7556 - val_auc: 0.9192\n",
      "\n",
      "Epoch 00043: val_auc improved from 0.91915 to 0.91923, saving model to vgg16_1.h5\n",
      "Epoch 44/100\n",
      "935/935 [==============================] - 55s 59ms/step - loss: 0.4917 - accuracy: 0.7663 - auc: 0.9204 - val_loss: 0.4859 - val_accuracy: 0.7571 - val_auc: 0.9203\n",
      "\n",
      "Epoch 00044: val_auc improved from 0.91923 to 0.92027, saving model to vgg16_1.h5\n",
      "Epoch 45/100\n",
      "935/935 [==============================] - 56s 60ms/step - loss: 0.4867 - accuracy: 0.7639 - auc: 0.9207 - val_loss: 0.4823 - val_accuracy: 0.7595 - val_auc: 0.9209\n",
      "\n",
      "Epoch 00045: val_auc improved from 0.92027 to 0.92089, saving model to vgg16_1.h5\n",
      "Epoch 46/100\n",
      "935/935 [==============================] - 56s 60ms/step - loss: 0.4809 - accuracy: 0.7655 - auc: 0.9218 - val_loss: 0.4794 - val_accuracy: 0.7571 - val_auc: 0.9206\n",
      "\n",
      "Epoch 00046: val_auc did not improve from 0.92089\n",
      "Epoch 47/100\n",
      "935/935 [==============================] - 55s 59ms/step - loss: 0.4760 - accuracy: 0.7677 - auc: 0.9236 - val_loss: 0.4756 - val_accuracy: 0.7595 - val_auc: 0.9216\n",
      "\n",
      "Epoch 00047: val_auc improved from 0.92089 to 0.92162, saving model to vgg16_1.h5\n",
      "Epoch 48/100\n",
      "935/935 [==============================] - 56s 59ms/step - loss: 0.4734 - accuracy: 0.7714 - auc: 0.9237 - val_loss: 0.4728 - val_accuracy: 0.7589 - val_auc: 0.9213\n",
      "\n",
      "Epoch 00048: val_auc did not improve from 0.92162\n",
      "Epoch 49/100\n",
      "935/935 [==============================] - 56s 60ms/step - loss: 0.4732 - accuracy: 0.7672 - auc: 0.9225 - val_loss: 0.4698 - val_accuracy: 0.7616 - val_auc: 0.9227\n",
      "\n",
      "Epoch 00049: val_auc improved from 0.92162 to 0.92271, saving model to vgg16_1.h5\n",
      "Epoch 50/100\n",
      "935/935 [==============================] - 55s 59ms/step - loss: 0.4688 - accuracy: 0.7693 - auc: 0.9239 - val_loss: 0.4676 - val_accuracy: 0.7631 - val_auc: 0.9227\n",
      "\n",
      "Epoch 00050: val_auc improved from 0.92271 to 0.92272, saving model to vgg16_1.h5\n",
      "Epoch 51/100\n",
      "935/935 [==============================] - 55s 58ms/step - loss: 0.4678 - accuracy: 0.7678 - auc: 0.9244 - val_loss: 0.4642 - val_accuracy: 0.7613 - val_auc: 0.9226\n",
      "\n",
      "Epoch 00051: val_auc did not improve from 0.92272\n",
      "Epoch 52/100\n",
      "935/935 [==============================] - 54s 58ms/step - loss: 0.4663 - accuracy: 0.7682 - auc: 0.9239 - val_loss: 0.4629 - val_accuracy: 0.7640 - val_auc: 0.9233\n",
      "\n",
      "Epoch 00052: val_auc improved from 0.92272 to 0.92331, saving model to vgg16_1.h5\n",
      "Epoch 53/100\n",
      "935/935 [==============================] - 55s 58ms/step - loss: 0.4603 - accuracy: 0.7717 - auc: 0.9250 - val_loss: 0.4612 - val_accuracy: 0.7607 - val_auc: 0.9224\n",
      "\n",
      "Epoch 00053: val_auc did not improve from 0.92331\n",
      "Epoch 54/100\n",
      "935/935 [==============================] - 55s 58ms/step - loss: 0.4590 - accuracy: 0.7697 - auc: 0.9250 - val_loss: 0.4581 - val_accuracy: 0.7643 - val_auc: 0.9239\n",
      "\n",
      "Epoch 00054: val_auc improved from 0.92331 to 0.92385, saving model to vgg16_1.h5\n",
      "Epoch 55/100\n",
      "935/935 [==============================] - 55s 58ms/step - loss: 0.4562 - accuracy: 0.7731 - auc: 0.9260 - val_loss: 0.4568 - val_accuracy: 0.7625 - val_auc: 0.9233\n",
      "\n",
      "Epoch 00055: val_auc did not improve from 0.92385\n",
      "Epoch 56/100\n",
      "935/935 [==============================] - 54s 58ms/step - loss: 0.4577 - accuracy: 0.7710 - auc: 0.9250 - val_loss: 0.4558 - val_accuracy: 0.7634 - val_auc: 0.9235\n",
      "\n",
      "Epoch 00056: val_auc did not improve from 0.92385\n",
      "Epoch 57/100\n",
      "935/935 [==============================] - 55s 59ms/step - loss: 0.4486 - accuracy: 0.7761 - auc: 0.9284 - val_loss: 0.4529 - val_accuracy: 0.7655 - val_auc: 0.9245\n",
      "\n",
      "Epoch 00057: val_auc improved from 0.92385 to 0.92455, saving model to vgg16_1.h5\n",
      "Epoch 58/100\n",
      "935/935 [==============================] - 56s 60ms/step - loss: 0.4535 - accuracy: 0.7688 - auc: 0.9257 - val_loss: 0.4526 - val_accuracy: 0.7667 - val_auc: 0.9246\n",
      "\n",
      "Epoch 00058: val_auc improved from 0.92455 to 0.92461, saving model to vgg16_1.h5\n",
      "Epoch 59/100\n",
      "935/935 [==============================] - 56s 60ms/step - loss: 0.4537 - accuracy: 0.7700 - auc: 0.9257 - val_loss: 0.4503 - val_accuracy: 0.7652 - val_auc: 0.9242\n",
      "\n",
      "Epoch 00059: val_auc did not improve from 0.92461\n",
      "Epoch 60/100\n",
      "935/935 [==============================] - 56s 60ms/step - loss: 0.4486 - accuracy: 0.7743 - auc: 0.9271 - val_loss: 0.4492 - val_accuracy: 0.7658 - val_auc: 0.9244\n",
      "\n",
      "Epoch 00060: val_auc did not improve from 0.92461\n",
      "Epoch 61/100\n",
      "935/935 [==============================] - 56s 59ms/step - loss: 0.4436 - accuracy: 0.7784 - auc: 0.9289 - val_loss: 0.4474 - val_accuracy: 0.7673 - val_auc: 0.9250\n",
      "\n",
      "Epoch 00061: val_auc improved from 0.92461 to 0.92500, saving model to vgg16_1.h5\n",
      "Epoch 62/100\n",
      "935/935 [==============================] - 55s 59ms/step - loss: 0.4477 - accuracy: 0.7740 - auc: 0.9270 - val_loss: 0.4474 - val_accuracy: 0.7661 - val_auc: 0.9249\n",
      "\n",
      "Epoch 00062: val_auc did not improve from 0.92500\n",
      "Epoch 63/100\n",
      "935/935 [==============================] - 55s 59ms/step - loss: 0.4479 - accuracy: 0.7718 - auc: 0.9258 - val_loss: 0.4457 - val_accuracy: 0.7661 - val_auc: 0.9247\n",
      "\n",
      "Epoch 00063: val_auc did not improve from 0.92500\n",
      "Epoch 64/100\n",
      "935/935 [==============================] - 56s 59ms/step - loss: 0.4472 - accuracy: 0.7728 - auc: 0.9267 - val_loss: 0.4442 - val_accuracy: 0.7676 - val_auc: 0.9249\n",
      "\n",
      "Epoch 00064: val_auc did not improve from 0.92500\n",
      "Epoch 65/100\n",
      "935/935 [==============================] - 55s 59ms/step - loss: 0.4406 - accuracy: 0.7775 - auc: 0.9285 - val_loss: 0.4432 - val_accuracy: 0.7667 - val_auc: 0.9248\n",
      "\n",
      "Epoch 00065: val_auc did not improve from 0.92500\n",
      "Epoch 66/100\n",
      "935/935 [==============================] - 56s 59ms/step - loss: 0.4392 - accuracy: 0.7778 - auc: 0.9296 - val_loss: 0.4424 - val_accuracy: 0.7667 - val_auc: 0.9248\n",
      "\n",
      "Epoch 00066: val_auc did not improve from 0.92500\n",
      "Epoch 00066: early stopping\n"
     ]
    }
   ],
   "source": [
    "from keras.callbacks import ModelCheckpoint, EarlyStopping\n",
    "checkpoint = ModelCheckpoint(\"vgg16_1.h5\", monitor='val_auc', verbose=1, save_best_only=True, save_weights_only=False, mode='max')\n",
    "early = EarlyStopping(monitor='val_auc', min_delta=0, patience=5, verbose=1, mode='max')\n",
    "# hist = model.fit_generator(steps_per_epoch=10,generator=(X_train, y_train), validation_data= (X_test, y_test), validation_steps=10,epochs=50,callbacks=[checkpoint,early])\n",
    "hist = model.fit(X_train, y_train, epochs=100, validation_data=(X_test, y_test), batch_size=32,callbacks=[checkpoint,early])"
   ]
  },
  {
   "cell_type": "code",
   "execution_count": 16,
   "metadata": {},
   "outputs": [
    {
     "data": {
      "image/png": "[encoded data removed]",
      "text/plain": [
       "<Figure size 432x288 with 1 Axes>"
      ]
     },
     "metadata": {
      "needs_background": "light"
     },
     "output_type": "display_data"
    }
   ],
   "source": [
    "plt.plot(hist.history[\"auc\"])\n",
    "plt.plot(hist.history['val_auc'])\n",
    "plt.plot(hist.history['loss'])\n",
    "plt.plot(hist.history['val_loss'])\n",
    "plt.title(\"model auc\")\n",
    "plt.ylabel(\"Auc\")\n",
    "plt.xlabel(\"Epoch\")\n",
    "plt.legend([\"Auc\",\"Validation Auc\",\"loss\",\"Validation Loss\"])\n",
    "plt.savefig(\"trainvalid.png\")"
   ]
  },
  {
   "cell_type": "code",
   "execution_count": 17,
   "metadata": {},
   "outputs": [],
   "source": [
    "model = load_model('./vgg16_1.h5')"
   ]
  },
  {
   "cell_type": "code",
   "execution_count": 18,
   "metadata": {},
   "outputs": [
    {
     "name": "stdout",
     "output_type": "stream",
     "text": [
      "104/104 [==============================] - 1s 9ms/step\n"
     ]
    }
   ],
   "source": [
    "model_pred = model.predict(X_test, batch_size=32, verbose=1)\n",
    "model_predicted = np.argmax(model_pred, axis=1)"
   ]
  },
  {
   "cell_type": "code",
   "execution_count": 19,
   "metadata": {},
   "outputs": [
    {
     "data": {
      "text/plain": [
       "array([[1167,    0,    5],\n",
       "       [   5,    0,  757],\n",
       "       [   6,    0, 1382]])"
      ]
     },
     "execution_count": 19,
     "metadata": {},
     "output_type": "execute_result"
    }
   ],
   "source": [
    "from sklearn.metrics import confusion_matrix, classification_report\n",
    "model_cm = confusion_matrix(np.argmax(y_test, axis=1), model_predicted) \n",
    "model_cm"
   ]
  },
  {
   "cell_type": "code",
   "execution_count": 20,
   "metadata": {},
   "outputs": [
    {
     "data": {
      "image/png": "[encoded data removed]",
      "text/plain": [
       "<Figure size 576x288 with 2 Axes>"
      ]
     },
     "metadata": {
      "needs_background": "light"
     },
     "output_type": "display_data"
    }
   ],
   "source": [
    "model_df_cm = pd.DataFrame(model_cm, range(3), range(3)) \n",
    "plt.figure(figsize = (8, 4)) \n",
    "plt.title('Confusion Matrix')\n",
    "sn.set(font_scale=1.4) #for label size \n",
    "sn.heatmap(model_df_cm, annot=True, annot_kws={\"size\": 12}, fmt=\"d\") # font size \n",
    "plt.show()"
   ]
  },
  {
   "cell_type": "code",
   "execution_count": 21,
   "metadata": {},
   "outputs": [
    {
     "name": "stdout",
     "output_type": "stream",
     "text": [
      "              precision    recall  f1-score   support\n",
      "\n",
      "           0       0.99      1.00      0.99      1172\n",
      "           1       0.00      0.00      0.00       762\n",
      "           2       0.64      1.00      0.78      1388\n",
      "\n",
      "    accuracy                           0.77      3322\n",
      "   macro avg       0.55      0.66      0.59      3322\n",
      "weighted avg       0.62      0.77      0.68      3322\n",
      "\n"
     ]
    },
    {
     "name": "stderr",
     "output_type": "stream",
     "text": [
      "/home/fkirmani/anaconda3/lib/python3.7/site-packages/sklearn/metrics/_classification.py:1221: UndefinedMetricWarning: Precision and F-score are ill-defined and being set to 0.0 in labels with no predicted samples. Use `zero_division` parameter to control this behavior.\n",
      "  _warn_prf(average, modifier, msg_start, len(result))\n"
     ]
    }
   ],
   "source": [
    "model_report = classification_report(np.argmax(y_test, axis=1), model_predicted)\n",
    "print(model_report)"
   ]
  },
  {
   "cell_type": "code",
   "execution_count": null,
   "metadata": {},
   "outputs": [],
   "source": []
  }
 ],
 "metadata": {
  "kernelspec": {
   "display_name": "Python 3",
   "language": "python",
   "name": "python3"
  },
  "language_info": {
   "codemirror_mode": {
    "name": "ipython",
    "version": 3
   },
   "file_extension": ".py",
   "mimetype": "text/x-python",
   "name": "python",
   "nbconvert_exporter": "python",
   "pygments_lexer": "ipython3",
   "version": "3.7.4"
  }
 },
 "nbformat": 4,
 "nbformat_minor": 4
}
