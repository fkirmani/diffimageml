{
  "nbformat": 4,
  "nbformat_minor": 0,
  "metadata": {
    "kernelspec": {
      "display_name": "Python 3",
      "language": "python",
      "name": "python3"
    },
    "language_info": {
      "codemirror_mode": {
        "name": "ipython",
        "version": 3
      },
      "file_extension": ".py",
      "mimetype": "text/x-python",
      "name": "python",
      "nbconvert_exporter": "python",
      "pygments_lexer": "ipython3",
      "version": "3.7.9"
    },
    "colab": {
      "name": "vgg16_keras_demo.ipynb",
      "provenance": [],
      "include_colab_link": true
    },
    "accelerator": "GPU"
  },
  "cells": [
    {
      "cell_type": "markdown",
      "metadata": {
        "id": "view-in-github",
        "colab_type": "text"
      },
      "source": [
        "<a href=\"https://colab.research.google.com/github/srodney/diffimageml/blob/main/diffimageml/examples/vgg16_keras_demo.ipynb\" target=\"_parent\"><img src=\"https://colab.research.google.com/assets/colab-badge.svg\" alt=\"Open In Colab\"/></a>"
      ]
    },
    {
      "cell_type": "markdown",
      "metadata": {
        "id": "ds7N6ZWOvtkI"
      },
      "source": [
        "## Demo of the keras vgg16 implementation\n",
        "\n",
        "ML warmup: shows a demo classification of cats and dogs images from imagenet db.  See, for example: \n",
        "\n",
        "https://www.kaggle.com/shaochuanwang/keras-warm-up-cats-vs-dogs-cnn-with-vgg16\n",
        "\n",
        "https://machinelearningmastery.com/how-to-develop-a-convolutional-neural-network-to-classify-photos-of-dogs-and-cats/\n"
      ]
    },
    {
      "cell_type": "code",
      "metadata": {
        "id": "yDBCbMr4vtkO"
      },
      "source": [
        "import os\n",
        "import shutil\n",
        "import glob\n",
        "import numpy as np\n",
        "import matplotlib.pyplot as plt\n",
        "import seaborn as sns\n",
        "import pandas as pd\n",
        "import zipfile\n",
        "\n",
        "import tensorflow as tf\n",
        "from tensorflow import keras"
      ],
      "execution_count": 12,
      "outputs": []
    },
    {
      "cell_type": "code",
      "metadata": {
        "id": "FxmCXqxHBLUs"
      },
      "source": [
        "from keras.utils import to_categorical\n",
        "from keras.models import Sequential\n",
        "from keras.layers import Conv2D\n",
        "from keras.layers import MaxPooling2D\n",
        "from keras.layers import Dense\n",
        "from keras.layers import Flatten\n",
        "from keras.optimizers import SGD\n",
        "from keras.preprocessing.image import ImageDataGenerator\n",
        "from keras.layers import Dropout\n",
        "from keras.callbacks import EarlyStopping, ModelCheckpoint"
      ],
      "execution_count": 13,
      "outputs": []
    },
    {
      "cell_type": "code",
      "metadata": {
        "id": "uXEBlyLKvtkP"
      },
      "source": [
        "%matplotlib inline"
      ],
      "execution_count": 14,
      "outputs": []
    },
    {
      "cell_type": "markdown",
      "metadata": {
        "id": "GNZo0-3k4Ud0"
      },
      "source": [
        "# Get the example image data\n",
        "\n",
        "## Option 1: from Google Drive (default)\n",
        "\n",
        "Grab the pre-fetched Kaggle zip file from a public Google Drive link.\n",
        "\n",
        "See the \"Fetch and set up the Data\" section below\n",
        "\n",
        "\n",
        "## Option 2: Get the data directly from Kaggle to Colab\n",
        "\n",
        "To get the training data directly from Kaggle to Google Colab, do the following:\n",
        "1. log in to Kaggle (register for an account if needed)\n",
        "2. Visit the Dogs vs Cats competition: https://www.kaggle.com/c/dogs-vs-cats/data\n",
        "3. accept the competition rules (you must do this before you can download the data using the API)\n",
        "4. Follow the steps described here: https://www.kaggle.com/general/74235"
      ]
    },
    {
      "cell_type": "markdown",
      "metadata": {
        "id": "jvQS_BKNCEo2"
      },
      "source": [
        "## Fetch and set up the data\n",
        "\n",
        "Here we download a zip file with the example training/validation and test data from Google Drive, unpack it, sort the data into subdirs by class, and load it into keras data generator objects."
      ]
    },
    {
      "cell_type": "code",
      "metadata": {
        "colab": {
          "base_uri": "https://localhost:8080/"
        },
        "id": "Sq_WWBfpeVeN",
        "outputId": "0dff88e2-b5ac-4a74-fe6d-5ace9fda259b"
      },
      "source": [
        "# Grab the pre-fetched data from Google Drive\n",
        "# Gets placed into /content/dogs-vs-cats.zip\n",
        "zipfilename = \"/content/dogs-vs-cats.zip\"\n",
        "if os.path.isfile(zipfilename):\n",
        "  os.remove(zipfilename)\n",
        "!gdown --id 1xXZYJZkOzajQpHLPUvw9LzUq-zYIqbKa\n",
        "\n",
        "print(f\"Got zip file? {os.path.exists(zipfilename)}\")\n",
        "print(f\"File size = {os.stat(zipfilename).st_size} bytes\")"
      ],
      "execution_count": 15,
      "outputs": [
        {
          "output_type": "stream",
          "text": [
            "Downloading...\n",
            "From: https://drive.google.com/uc?id=1xXZYJZkOzajQpHLPUvw9LzUq-zYIqbKa\n",
            "To: /content/dogs-vs-cats.zip\n",
            "852MB [00:08, 95.8MB/s]\n",
            "Got zip file? True\n",
            "File size = 851576689 bytes\n"
          ],
          "name": "stdout"
        }
      ]
    },
    {
      "cell_type": "code",
      "metadata": {
        "colab": {
          "base_uri": "https://localhost:8080/"
        },
        "id": "3IReGFQUgRge",
        "outputId": "0a0ea833-6e7b-4d33-a819-76ec6fd503a5"
      },
      "source": [
        "# unzip the top-level zip file into a local Colab data directory\n",
        "datadir = \"dogs_vs_cats_data\"\n",
        "\n",
        "with zipfile.ZipFile(zipfilename, 'r') as zip_ref:\n",
        "    zip_ref.extractall(datadir)\n",
        "\n",
        "# unzip the training/validation data : unpacks into a directory labeled 'train'\n",
        "trainzipfilepath = os.path.join(datadir, \"train.zip\")\n",
        "with zipfile.ZipFile(trainzipfilepath, 'r') as zip_ref:\n",
        "    zip_ref.extractall(datadir)\n",
        " \n",
        "traindatadir = os.path.join(datadir, \"train\")\n",
        "\n",
        "assert(os.path.exists(traindatadir))\n",
        "print(f\"Unpacked training data into {os.path.abspath(traindatadir)}\")"
      ],
      "execution_count": 16,
      "outputs": [
        {
          "output_type": "stream",
          "text": [
            "Unpacked training data into /content/dogs_vs_cats_data/train\n"
          ],
          "name": "stdout"
        }
      ]
    },
    {
      "cell_type": "code",
      "metadata": {
        "colab": {
          "base_uri": "https://localhost:8080/",
          "height": 379
        },
        "id": "G5P6YcSOyaTz",
        "outputId": "3c709b4a-300c-486f-917a-6db8c9236e74"
      },
      "source": [
        "imagelist = glob.glob(traindatadir + '/*jpg')\n",
        "print(f\"Total Number of images = {len(imagelist)}\")\n",
        "\n",
        "# Sort the data into two sub-directories based on class\n",
        "classnames = [\"cat\", \"dog\"]\n",
        "for classname in classnames:\n",
        "  classdir = os.path.join(traindatadir, classname)\n",
        "  if not os.path.isdir(classdir):\n",
        "    os.mkdir(classdir)\n",
        "  classfilelist = glob.glob(traindatadir + f'/{classname}*jpg')\n",
        "  print(f\"Number of {classname} images = {len(classfilelist)}\")\n",
        "  for filename in classfilelist:\n",
        "    shutil.move(filename, classdir)\n",
        "\n"
      ],
      "execution_count": 17,
      "outputs": [
        {
          "output_type": "stream",
          "text": [
            "Total Number of images = 25000\n",
            "Number of cat images = 12500\n"
          ],
          "name": "stdout"
        },
        {
          "output_type": "error",
          "ename": "Error",
          "evalue": "ignored",
          "traceback": [
            "\u001b[0;31m---------------------------------------------------------------------------\u001b[0m",
            "\u001b[0;31mError\u001b[0m                                     Traceback (most recent call last)",
            "\u001b[0;32m<ipython-input-17-0fd735bccc57>\u001b[0m in \u001b[0;36m<module>\u001b[0;34m()\u001b[0m\n\u001b[1;32m     11\u001b[0m   \u001b[0mprint\u001b[0m\u001b[0;34m(\u001b[0m\u001b[0;34mf\"Number of {classname} images = {len(classfilelist)}\"\u001b[0m\u001b[0;34m)\u001b[0m\u001b[0;34m\u001b[0m\u001b[0;34m\u001b[0m\u001b[0m\n\u001b[1;32m     12\u001b[0m   \u001b[0;32mfor\u001b[0m \u001b[0mfilename\u001b[0m \u001b[0;32min\u001b[0m \u001b[0mclassfilelist\u001b[0m\u001b[0;34m:\u001b[0m\u001b[0;34m\u001b[0m\u001b[0;34m\u001b[0m\u001b[0m\n\u001b[0;32m---> 13\u001b[0;31m     \u001b[0mshutil\u001b[0m\u001b[0;34m.\u001b[0m\u001b[0mmove\u001b[0m\u001b[0;34m(\u001b[0m\u001b[0mfilename\u001b[0m\u001b[0;34m,\u001b[0m \u001b[0mclassdir\u001b[0m\u001b[0;34m)\u001b[0m\u001b[0;34m\u001b[0m\u001b[0;34m\u001b[0m\u001b[0m\n\u001b[0m\u001b[1;32m     14\u001b[0m \u001b[0;34m\u001b[0m\u001b[0m\n",
            "\u001b[0;32m/usr/lib/python3.6/shutil.py\u001b[0m in \u001b[0;36mmove\u001b[0;34m(src, dst, copy_function)\u001b[0m\n\u001b[1;32m    546\u001b[0m         \u001b[0mreal_dst\u001b[0m \u001b[0;34m=\u001b[0m \u001b[0mos\u001b[0m\u001b[0;34m.\u001b[0m\u001b[0mpath\u001b[0m\u001b[0;34m.\u001b[0m\u001b[0mjoin\u001b[0m\u001b[0;34m(\u001b[0m\u001b[0mdst\u001b[0m\u001b[0;34m,\u001b[0m \u001b[0m_basename\u001b[0m\u001b[0;34m(\u001b[0m\u001b[0msrc\u001b[0m\u001b[0;34m)\u001b[0m\u001b[0;34m)\u001b[0m\u001b[0;34m\u001b[0m\u001b[0;34m\u001b[0m\u001b[0m\n\u001b[1;32m    547\u001b[0m         \u001b[0;32mif\u001b[0m \u001b[0mos\u001b[0m\u001b[0;34m.\u001b[0m\u001b[0mpath\u001b[0m\u001b[0;34m.\u001b[0m\u001b[0mexists\u001b[0m\u001b[0;34m(\u001b[0m\u001b[0mreal_dst\u001b[0m\u001b[0;34m)\u001b[0m\u001b[0;34m:\u001b[0m\u001b[0;34m\u001b[0m\u001b[0;34m\u001b[0m\u001b[0m\n\u001b[0;32m--> 548\u001b[0;31m             \u001b[0;32mraise\u001b[0m \u001b[0mError\u001b[0m\u001b[0;34m(\u001b[0m\u001b[0;34m\"Destination path '%s' already exists\"\u001b[0m \u001b[0;34m%\u001b[0m \u001b[0mreal_dst\u001b[0m\u001b[0;34m)\u001b[0m\u001b[0;34m\u001b[0m\u001b[0;34m\u001b[0m\u001b[0m\n\u001b[0m\u001b[1;32m    549\u001b[0m     \u001b[0;32mtry\u001b[0m\u001b[0;34m:\u001b[0m\u001b[0;34m\u001b[0m\u001b[0;34m\u001b[0m\u001b[0m\n\u001b[1;32m    550\u001b[0m         \u001b[0mos\u001b[0m\u001b[0;34m.\u001b[0m\u001b[0mrename\u001b[0m\u001b[0;34m(\u001b[0m\u001b[0msrc\u001b[0m\u001b[0;34m,\u001b[0m \u001b[0mreal_dst\u001b[0m\u001b[0;34m)\u001b[0m\u001b[0;34m\u001b[0m\u001b[0;34m\u001b[0m\u001b[0m\n",
            "\u001b[0;31mError\u001b[0m: Destination path 'dogs_vs_cats_data/train/cat/cat.7039.jpg' already exists"
          ]
        }
      ]
    },
    {
      "cell_type": "markdown",
      "metadata": {
        "id": "xxMCySx4D_B3"
      },
      "source": [
        "# Set up the Data Generators\n",
        "\n",
        "Construct a data generator for training and validation, with an 80/20 split.\n",
        "\n",
        "Options below to adjust the image target image size, and to use image augmentation. "
      ]
    },
    {
      "cell_type": "code",
      "metadata": {
        "id": "_61lbBbpyP9R"
      },
      "source": [
        "imagesize = 200 # pixels - fixing to square image arrays\n",
        "use_augmentation = False # set to true to include shifts and flip\n",
        "valsplit = 0.2  # fraction of available training data to use for validation\n",
        "\n",
        "# Create the data generator, with or without augmentation\n",
        "if use_augmentation:\n",
        "  datagen = ImageDataGenerator(rescale=1.0/255.0, width_shift_range=0.1, \n",
        "                               height_shift_range=0.1, horizontal_flip=True, \n",
        "                               validation_split=valsplit)\n",
        "else:    \n",
        "  datagen = ImageDataGenerator(rescale=1.0/255.0, validation_split=valsplit)\n",
        "\n",
        "\n",
        "print('Training data set (80%):')\n",
        "train_it = datagen.flow_from_directory(\n",
        "    directory=traindatadir, class_mode='binary', batch_size=64, \n",
        "    target_size=(imagesize, imagesize), subset='training')    \n",
        "\n",
        "print('\\n Validation data set (20%):')   \n",
        "test_it = datagen.flow_from_directory(\n",
        "    directory=traindatadir, class_mode='binary', batch_size=64, \n",
        "    target_size=(imagesize, imagesize), subset='validation')\n"
      ],
      "execution_count": null,
      "outputs": []
    },
    {
      "cell_type": "markdown",
      "metadata": {
        "id": "nkut9Lh93rtP"
      },
      "source": [
        "# Define Models\n",
        "\n",
        "These functions define three different CNNs:  a one-block, a two-block, and the VGG16 model."
      ]
    },
    {
      "cell_type": "code",
      "metadata": {
        "id": "Zn13D0rP3079"
      },
      "source": [
        "# define cnn model\n",
        "def define_model_1():\n",
        "    ##One Block CNN\n",
        "    model = Sequential()\n",
        "    model.add(Conv2D(32, (3, 3), activation='relu', kernel_initializer='he_uniform', padding='same', input_shape=(imagesize, imagesize, 3)))\n",
        "    model.add(MaxPooling2D((2, 2)))\n",
        "    model.add(Flatten())\n",
        "    model.add(Dense(128, activation='relu', kernel_initializer='he_uniform'))\n",
        "    model.add(Dense(1, activation='sigmoid'))\n",
        "    # compile model\n",
        "    opt = SGD(lr=0.001, momentum=0.9)\n",
        "    model.compile(optimizer=opt, loss='binary_crossentropy', metrics=['accuracy'])\n",
        "    return model\n",
        " \n",
        "def define_model_1_dropout():\n",
        "    model = Sequential()\n",
        "    model.add(Dropout(0.2))\n",
        "    model.add(Conv2D(32, (3, 3), activation='relu', kernel_initializer='he_uniform', padding='same', input_shape=(imagesize, imagesize, 3)))\n",
        "    model.add(MaxPooling2D((2, 2)))\n",
        "    model.add(Dropout(0.2))\n",
        "    model.add(Flatten())\n",
        "    model.add(Dense(128, activation='relu', kernel_initializer='he_uniform'))\n",
        "    model.add(Dropout(0.5))\n",
        "    model.add(Dense(1, activation='sigmoid'))\n",
        "    opt = SGD(lr=0.001, momentum=0.9)\n",
        "    model.compile(optimizer=opt, loss='binary_crossentropy', metrics=['accuracy'])\n",
        "    return model\n",
        "    \n",
        "def define_model_2():\n",
        "    \n",
        "    #Two Block CNN\n",
        "    model = Sequential()\n",
        "    model.add(Conv2D(16, (3, 3), activation='relu', kernel_initializer='he_uniform', padding='same', input_shape=(imagesize, imagesize, 3)))\n",
        "    model.add(MaxPooling2D((2, 2)))\n",
        "    model.add(Dropout(0.5))\n",
        "    model.add(Conv2D(32, (3, 3), activation='relu', kernel_initializer='he_uniform', padding='same'))\n",
        "    model.add(MaxPooling2D((2, 2)))\n",
        "    model.add(Dropout(0.5))\n",
        "    model.add(Flatten())\n",
        "    model.add(Dense(64, activation='relu', kernel_initializer='he_uniform'))\n",
        "    model.add(Dropout(0.5))\n",
        "    model.add(Dense(1, activation='sigmoid'))\n",
        "    # compile model\n",
        "    opt = SGD(lr=0.001, momentum=0.9)\n",
        "    model.compile(optimizer=opt, loss='binary_crossentropy', metrics=['accuracy'])\n",
        "\n",
        "    return model\n",
        "    \n",
        "def VGG16():\n",
        "    model = Sequential()\n",
        "    model.add(Conv2D(input_shape=(imagesize,imagesize,3),filters=64,kernel_size=(3,3),padding=\"same\", activation=\"relu\"))\n",
        "    model.add(Conv2D(filters=64,kernel_size=(3,3),padding=\"same\", activation=\"relu\"))\n",
        "    model.add(MaxPooling2D(pool_size=(2,2),strides=(2,2)))\n",
        "    model.add(Conv2D(filters=128, kernel_size=(3,3), padding=\"same\", activation=\"relu\"))\n",
        "    model.add(Conv2D(filters=128, kernel_size=(3,3), padding=\"same\", activation=\"relu\"))\n",
        "    model.add(MaxPooling2D(pool_size=(2,2),strides=(2,2)))\n",
        "    model.add(Conv2D(filters=256, kernel_size=(3,3), padding=\"same\", activation=\"relu\"))\n",
        "    model.add(Conv2D(filters=256, kernel_size=(3,3), padding=\"same\", activation=\"relu\"))\n",
        "    model.add(Conv2D(filters=256, kernel_size=(3,3), padding=\"same\", activation=\"relu\"))\n",
        "    model.add(MaxPooling2D(pool_size=(2,2),strides=(2,2)))\n",
        "    model.add(Conv2D(filters=512, kernel_size=(3,3), padding=\"same\", activation=\"relu\"))\n",
        "    model.add(Conv2D(filters=512, kernel_size=(3,3), padding=\"same\", activation=\"relu\"))\n",
        "    model.add(Conv2D(filters=512, kernel_size=(3,3), padding=\"same\", activation=\"relu\"))\n",
        "    model.add(MaxPooling2D(pool_size=(2,2),strides=(2,2)))\n",
        "    model.add(Conv2D(filters=512, kernel_size=(3,3), padding=\"same\", activation=\"relu\"))\n",
        "    model.add(Conv2D(filters=512, kernel_size=(3,3), padding=\"same\", activation=\"relu\"))\n",
        "    model.add(Conv2D(filters=512, kernel_size=(3,3), padding=\"same\", activation=\"relu\"))\n",
        "    model.add(MaxPooling2D(pool_size=(2,2),strides=(2,2),name='vgg16'))\n",
        "    model.add(Flatten(name='flatten'))\n",
        "    model.add(Dense(256, activation='relu', name='fc1'))\n",
        "    model.add(Dense(128, activation='relu', name='fc2'))\n",
        "    model.add(Dense(1, activation='sigmoid', name='output'))\n",
        "    opt = SGD(lr=0.001, momentum=0.9)\n",
        "    model.compile(optimizer=opt, loss='binary_crossentropy', metrics=['accuracy'])\n",
        "    return model\n"
      ],
      "execution_count": null,
      "outputs": []
    },
    {
      "cell_type": "code",
      "metadata": {
        "id": "yaoUeXKc4xQN"
      },
      "source": [
        "# plot diagnostic learning curves\n",
        "def summarize_diagnostics(history):\n",
        "    # plot loss\n",
        "    plt.subplot(211)\n",
        "    plt.title('Cross Entropy Loss')\n",
        "    plt.plot(history.history['loss'], color='blue', label='train')\n",
        "    plt.plot(history.history['val_loss'], color='orange', label='test')\n",
        "    # plot accuracy\n",
        "    plt.subplot(212)\n",
        "    plt.title('Classification Accuracy')\n",
        "    plt.plot(history.history['accuracy'], color='blue', label='train')\n",
        "    plt.plot(history.history['val_accuracy'], color='orange', label='test')\n",
        "    plt.legend()\n",
        "    # save plot to file\n",
        "    filename = sys.argv[0].split('/')[-1]\n",
        "    plt.savefig(filename + '_plot.png')\n",
        "    plt.close()\n",
        "\n",
        "\n",
        "# run the test harness for evaluating a model\n",
        "def run_test_harness():\n",
        "    # define model\n",
        "    model = define_model_2()\n",
        "\n",
        "    # fit model\n",
        "    history = model.fit_generator(train_it, steps_per_epoch=len(train_it),\n",
        "        validation_data=test_it, validation_steps=len(test_it), epochs=50, verbose=1)\n",
        "    # evaluate model\n",
        "    _, acc = model.evaluate_generator(test_it, steps=len(test_it), verbose=0)\n",
        "    print('> %.3f' % (acc * 100.0))\n",
        "    # learning curves\n",
        "    summarize_diagnostics(history)\n",
        "    \n",
        "    model.save('final_model.h5')"
      ],
      "execution_count": null,
      "outputs": []
    },
    {
      "cell_type": "markdown",
      "metadata": {
        "id": "f6l3P4KE4x_-"
      },
      "source": [
        "# Run the model training"
      ]
    },
    {
      "cell_type": "code",
      "metadata": {
        "colab": {
          "base_uri": "https://localhost:8080/",
          "height": 1000
        },
        "id": "X4Ollq6U3-vj",
        "outputId": "f799bb64-5c55-4789-9cfc-0845dd84ed55"
      },
      "source": [
        "run_test_harness()"
      ],
      "execution_count": 11,
      "outputs": [
        {
          "output_type": "stream",
          "text": [
            "/usr/local/lib/python3.6/dist-packages/tensorflow/python/keras/engine/training.py:1844: UserWarning: `Model.fit_generator` is deprecated and will be removed in a future version. Please use `Model.fit`, which supports generators.\n",
            "  warnings.warn('`Model.fit_generator` is deprecated and '\n"
          ],
          "name": "stderr"
        },
        {
          "output_type": "stream",
          "text": [
            "Epoch 1/50\n",
            "313/313 [==============================] - 73s 230ms/step - loss: 0.7315 - accuracy: 0.5138 - val_loss: 0.6864 - val_accuracy: 0.5776\n",
            "Epoch 2/50\n",
            "313/313 [==============================] - 72s 231ms/step - loss: 0.6868 - accuracy: 0.5384 - val_loss: 0.6850 - val_accuracy: 0.5798\n",
            "Epoch 3/50\n",
            "313/313 [==============================] - 72s 230ms/step - loss: 0.6871 - accuracy: 0.5380 - val_loss: 0.6818 - val_accuracy: 0.5758\n",
            "Epoch 4/50\n",
            "313/313 [==============================] - 72s 231ms/step - loss: 0.6816 - accuracy: 0.5643 - val_loss: 0.6798 - val_accuracy: 0.5832\n",
            "Epoch 5/50\n",
            "313/313 [==============================] - 72s 230ms/step - loss: 0.6801 - accuracy: 0.5638 - val_loss: 0.6825 - val_accuracy: 0.5848\n",
            "Epoch 6/50\n",
            "313/313 [==============================] - 72s 231ms/step - loss: 0.6779 - accuracy: 0.5716 - val_loss: 0.6778 - val_accuracy: 0.5940\n",
            "Epoch 7/50\n",
            "313/313 [==============================] - 72s 231ms/step - loss: 0.6731 - accuracy: 0.5857 - val_loss: 0.6711 - val_accuracy: 0.6094\n",
            "Epoch 8/50\n",
            "313/313 [==============================] - 72s 230ms/step - loss: 0.6707 - accuracy: 0.5883 - val_loss: 0.6714 - val_accuracy: 0.6128\n",
            "Epoch 9/50\n",
            "313/313 [==============================] - 72s 230ms/step - loss: 0.6691 - accuracy: 0.5930 - val_loss: 0.6585 - val_accuracy: 0.6230\n",
            "Epoch 10/50\n",
            "313/313 [==============================] - 72s 231ms/step - loss: 0.6713 - accuracy: 0.5884 - val_loss: 0.6590 - val_accuracy: 0.6258\n",
            "Epoch 11/50\n",
            "313/313 [==============================] - 72s 231ms/step - loss: 0.6596 - accuracy: 0.6097 - val_loss: 0.6530 - val_accuracy: 0.6314\n",
            "Epoch 12/50\n",
            "313/313 [==============================] - 72s 230ms/step - loss: 0.6557 - accuracy: 0.6140 - val_loss: 0.6529 - val_accuracy: 0.6374\n",
            "Epoch 13/50\n",
            "313/313 [==============================] - 72s 230ms/step - loss: 0.6564 - accuracy: 0.6183 - val_loss: 0.6455 - val_accuracy: 0.6498\n",
            "Epoch 14/50\n",
            "313/313 [==============================] - 72s 231ms/step - loss: 0.6547 - accuracy: 0.6185 - val_loss: 0.6438 - val_accuracy: 0.6562\n",
            "Epoch 15/50\n",
            "313/313 [==============================] - 72s 231ms/step - loss: 0.6462 - accuracy: 0.6317 - val_loss: 0.6399 - val_accuracy: 0.6484\n",
            "Epoch 16/50\n",
            "313/313 [==============================] - 72s 231ms/step - loss: 0.6379 - accuracy: 0.6378 - val_loss: 0.6265 - val_accuracy: 0.6652\n",
            "Epoch 17/50\n",
            "313/313 [==============================] - 72s 231ms/step - loss: 0.6287 - accuracy: 0.6461 - val_loss: 0.6112 - val_accuracy: 0.6702\n",
            "Epoch 18/50\n",
            "313/313 [==============================] - 72s 231ms/step - loss: 0.6156 - accuracy: 0.6569 - val_loss: 0.6026 - val_accuracy: 0.6762\n",
            "Epoch 19/50\n",
            "313/313 [==============================] - 73s 232ms/step - loss: 0.6147 - accuracy: 0.6653 - val_loss: 0.5985 - val_accuracy: 0.6878\n",
            "Epoch 20/50\n",
            "313/313 [==============================] - 72s 231ms/step - loss: 0.6127 - accuracy: 0.6698 - val_loss: 0.5896 - val_accuracy: 0.6898\n",
            "Epoch 21/50\n",
            "313/313 [==============================] - 72s 231ms/step - loss: 0.6135 - accuracy: 0.6624 - val_loss: 0.5973 - val_accuracy: 0.6890\n",
            "Epoch 22/50\n",
            "313/313 [==============================] - 72s 230ms/step - loss: 0.6051 - accuracy: 0.6693 - val_loss: 0.5854 - val_accuracy: 0.6980\n",
            "Epoch 23/50\n",
            "313/313 [==============================] - 72s 231ms/step - loss: 0.5978 - accuracy: 0.6806 - val_loss: 0.5743 - val_accuracy: 0.6980\n",
            "Epoch 24/50\n",
            "313/313 [==============================] - 72s 231ms/step - loss: 0.5957 - accuracy: 0.6809 - val_loss: 0.5754 - val_accuracy: 0.6908\n",
            "Epoch 25/50\n",
            "313/313 [==============================] - 72s 230ms/step - loss: 0.5884 - accuracy: 0.6858 - val_loss: 0.5591 - val_accuracy: 0.7142\n",
            "Epoch 26/50\n",
            "313/313 [==============================] - 72s 230ms/step - loss: 0.5829 - accuracy: 0.6854 - val_loss: 0.5755 - val_accuracy: 0.6986\n",
            "Epoch 27/50\n",
            "313/313 [==============================] - 72s 229ms/step - loss: 0.5748 - accuracy: 0.7022 - val_loss: 0.5461 - val_accuracy: 0.7246\n",
            "Epoch 28/50\n",
            "313/313 [==============================] - 72s 229ms/step - loss: 0.5608 - accuracy: 0.7068 - val_loss: 0.5446 - val_accuracy: 0.7308\n",
            "Epoch 29/50\n",
            "313/313 [==============================] - 72s 229ms/step - loss: 0.5624 - accuracy: 0.7022 - val_loss: 0.5589 - val_accuracy: 0.7002\n",
            "Epoch 30/50\n",
            "313/313 [==============================] - 72s 229ms/step - loss: 0.5543 - accuracy: 0.7151 - val_loss: 0.5335 - val_accuracy: 0.7372\n",
            "Epoch 31/50\n",
            "313/313 [==============================] - 72s 230ms/step - loss: 0.5367 - accuracy: 0.7290 - val_loss: 0.5344 - val_accuracy: 0.7326\n",
            "Epoch 32/50\n",
            "313/313 [==============================] - 72s 231ms/step - loss: 0.5355 - accuracy: 0.7254 - val_loss: 0.5286 - val_accuracy: 0.7428\n",
            "Epoch 33/50\n",
            "313/313 [==============================] - 72s 231ms/step - loss: 0.5408 - accuracy: 0.7258 - val_loss: 0.5271 - val_accuracy: 0.7408\n",
            "Epoch 34/50\n",
            "313/313 [==============================] - 72s 231ms/step - loss: 0.5244 - accuracy: 0.7315 - val_loss: 0.5247 - val_accuracy: 0.7410\n",
            "Epoch 35/50\n",
            "313/313 [==============================] - 72s 231ms/step - loss: 0.5217 - accuracy: 0.7383 - val_loss: 0.5191 - val_accuracy: 0.7432\n",
            "Epoch 36/50\n",
            "313/313 [==============================] - 72s 231ms/step - loss: 0.5228 - accuracy: 0.7384 - val_loss: 0.5180 - val_accuracy: 0.7450\n",
            "Epoch 37/50\n",
            "313/313 [==============================] - 72s 231ms/step - loss: 0.5109 - accuracy: 0.7502 - val_loss: 0.5168 - val_accuracy: 0.7512\n",
            "Epoch 38/50\n",
            "313/313 [==============================] - 73s 232ms/step - loss: 0.5108 - accuracy: 0.7476 - val_loss: 0.5099 - val_accuracy: 0.7492\n",
            "Epoch 39/50\n",
            "313/313 [==============================] - 72s 231ms/step - loss: 0.5008 - accuracy: 0.7556 - val_loss: 0.5140 - val_accuracy: 0.7510\n",
            "Epoch 40/50\n",
            "313/313 [==============================] - 73s 233ms/step - loss: 0.5007 - accuracy: 0.7541 - val_loss: 0.5063 - val_accuracy: 0.7540\n",
            "Epoch 41/50\n",
            "313/313 [==============================] - 73s 232ms/step - loss: 0.4983 - accuracy: 0.7587 - val_loss: 0.5168 - val_accuracy: 0.7404\n",
            "Epoch 42/50\n",
            "313/313 [==============================] - 73s 233ms/step - loss: 0.4959 - accuracy: 0.7564 - val_loss: 0.5099 - val_accuracy: 0.7472\n",
            "Epoch 43/50\n",
            "313/313 [==============================] - 72s 232ms/step - loss: 0.4881 - accuracy: 0.7646 - val_loss: 0.5020 - val_accuracy: 0.7546\n",
            "Epoch 44/50\n",
            "313/313 [==============================] - 73s 232ms/step - loss: 0.4819 - accuracy: 0.7664 - val_loss: 0.4971 - val_accuracy: 0.7594\n",
            "Epoch 45/50\n",
            "313/313 [==============================] - 73s 233ms/step - loss: 0.4757 - accuracy: 0.7717 - val_loss: 0.5068 - val_accuracy: 0.7494\n",
            "Epoch 46/50\n",
            "313/313 [==============================] - 73s 233ms/step - loss: 0.4816 - accuracy: 0.7693 - val_loss: 0.5062 - val_accuracy: 0.7540\n",
            "Epoch 47/50\n",
            "313/313 [==============================] - 72s 232ms/step - loss: 0.4662 - accuracy: 0.7732 - val_loss: 0.5100 - val_accuracy: 0.7580\n",
            "Epoch 48/50\n",
            "313/313 [==============================] - 72s 231ms/step - loss: 0.4679 - accuracy: 0.7757 - val_loss: 0.5063 - val_accuracy: 0.7584\n",
            "Epoch 49/50\n",
            "313/313 [==============================] - 73s 232ms/step - loss: 0.4567 - accuracy: 0.7852 - val_loss: 0.5126 - val_accuracy: 0.7534\n",
            "Epoch 50/50\n",
            "313/313 [==============================] - 73s 232ms/step - loss: 0.4633 - accuracy: 0.7840 - val_loss: 0.5143 - val_accuracy: 0.7538\n"
          ],
          "name": "stdout"
        },
        {
          "output_type": "stream",
          "text": [
            "/usr/local/lib/python3.6/dist-packages/tensorflow/python/keras/engine/training.py:1877: UserWarning: `Model.evaluate_generator` is deprecated and will be removed in a future version. Please use `Model.evaluate`, which supports generators.\n",
            "  warnings.warn('`Model.evaluate_generator` is deprecated and '\n"
          ],
          "name": "stderr"
        },
        {
          "output_type": "stream",
          "text": [
            "> 75.380\n"
          ],
          "name": "stdout"
        },
        {
          "output_type": "error",
          "ename": "NameError",
          "evalue": "ignored",
          "traceback": [
            "\u001b[0;31m---------------------------------------------------------------------------\u001b[0m",
            "\u001b[0;31mNameError\u001b[0m                                 Traceback (most recent call last)",
            "\u001b[0;32m<ipython-input-11-c1b3612b5def>\u001b[0m in \u001b[0;36m<module>\u001b[0;34m()\u001b[0m\n\u001b[0;32m----> 1\u001b[0;31m \u001b[0mrun_test_harness\u001b[0m\u001b[0;34m(\u001b[0m\u001b[0;34m)\u001b[0m\u001b[0;34m\u001b[0m\u001b[0;34m\u001b[0m\u001b[0m\n\u001b[0m",
            "\u001b[0;32m<ipython-input-9-1380aa3faac9>\u001b[0m in \u001b[0;36mrun_test_harness\u001b[0;34m()\u001b[0m\n\u001b[1;32m     30\u001b[0m     \u001b[0mprint\u001b[0m\u001b[0;34m(\u001b[0m\u001b[0;34m'> %.3f'\u001b[0m \u001b[0;34m%\u001b[0m \u001b[0;34m(\u001b[0m\u001b[0macc\u001b[0m \u001b[0;34m*\u001b[0m \u001b[0;36m100.0\u001b[0m\u001b[0;34m)\u001b[0m\u001b[0;34m)\u001b[0m\u001b[0;34m\u001b[0m\u001b[0;34m\u001b[0m\u001b[0m\n\u001b[1;32m     31\u001b[0m     \u001b[0;31m# learning curves\u001b[0m\u001b[0;34m\u001b[0m\u001b[0;34m\u001b[0m\u001b[0;34m\u001b[0m\u001b[0m\n\u001b[0;32m---> 32\u001b[0;31m     \u001b[0msummarize_diagnostics\u001b[0m\u001b[0;34m(\u001b[0m\u001b[0mhistory\u001b[0m\u001b[0;34m)\u001b[0m\u001b[0;34m\u001b[0m\u001b[0;34m\u001b[0m\u001b[0m\n\u001b[0m\u001b[1;32m     33\u001b[0m \u001b[0;34m\u001b[0m\u001b[0m\n\u001b[1;32m     34\u001b[0m     \u001b[0mmodel\u001b[0m\u001b[0;34m.\u001b[0m\u001b[0msave\u001b[0m\u001b[0;34m(\u001b[0m\u001b[0;34m'final_model.h5'\u001b[0m\u001b[0;34m)\u001b[0m\u001b[0;34m\u001b[0m\u001b[0;34m\u001b[0m\u001b[0m\n",
            "\u001b[0;32m<ipython-input-9-1380aa3faac9>\u001b[0m in \u001b[0;36msummarize_diagnostics\u001b[0;34m(history)\u001b[0m\n\u001b[1;32m     13\u001b[0m     \u001b[0mplt\u001b[0m\u001b[0;34m.\u001b[0m\u001b[0mlegend\u001b[0m\u001b[0;34m(\u001b[0m\u001b[0;34m)\u001b[0m\u001b[0;34m\u001b[0m\u001b[0;34m\u001b[0m\u001b[0m\n\u001b[1;32m     14\u001b[0m     \u001b[0;31m# save plot to file\u001b[0m\u001b[0;34m\u001b[0m\u001b[0;34m\u001b[0m\u001b[0;34m\u001b[0m\u001b[0m\n\u001b[0;32m---> 15\u001b[0;31m     \u001b[0mfilename\u001b[0m \u001b[0;34m=\u001b[0m \u001b[0msys\u001b[0m\u001b[0;34m.\u001b[0m\u001b[0margv\u001b[0m\u001b[0;34m[\u001b[0m\u001b[0;36m0\u001b[0m\u001b[0;34m]\u001b[0m\u001b[0;34m.\u001b[0m\u001b[0msplit\u001b[0m\u001b[0;34m(\u001b[0m\u001b[0;34m'/'\u001b[0m\u001b[0;34m)\u001b[0m\u001b[0;34m[\u001b[0m\u001b[0;34m-\u001b[0m\u001b[0;36m1\u001b[0m\u001b[0;34m]\u001b[0m\u001b[0;34m\u001b[0m\u001b[0;34m\u001b[0m\u001b[0m\n\u001b[0m\u001b[1;32m     16\u001b[0m     \u001b[0mplt\u001b[0m\u001b[0;34m.\u001b[0m\u001b[0msavefig\u001b[0m\u001b[0;34m(\u001b[0m\u001b[0mfilename\u001b[0m \u001b[0;34m+\u001b[0m \u001b[0;34m'_plot.png'\u001b[0m\u001b[0;34m)\u001b[0m\u001b[0;34m\u001b[0m\u001b[0;34m\u001b[0m\u001b[0m\n\u001b[1;32m     17\u001b[0m     \u001b[0mplt\u001b[0m\u001b[0;34m.\u001b[0m\u001b[0mclose\u001b[0m\u001b[0;34m(\u001b[0m\u001b[0;34m)\u001b[0m\u001b[0;34m\u001b[0m\u001b[0;34m\u001b[0m\u001b[0m\n",
            "\u001b[0;31mNameError\u001b[0m: name 'sys' is not defined"
          ]
        },
        {
          "output_type": "display_data",
          "data": {
            "image/png": "[encoded data removed]",
            "text/plain": [
              "<Figure size 432x288 with 2 Axes>"
            ]
          },
          "metadata": {
            "tags": [],
            "needs_background": "light"
          }
        }
      ]
    },
    {
      "cell_type": "code",
      "metadata": {
        "id": "-dq5myS5Kti6"
      },
      "source": [
        ""
      ],
      "execution_count": null,
      "outputs": []
    }
  ]
}